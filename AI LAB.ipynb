{
 "cells": [
  {
   "cell_type": "code",
   "execution_count": 1,
   "id": "df0c6297-1840-4de2-b434-dfa6aea3701f",
   "metadata": {},
   "outputs": [
    {
     "name": "stdout",
     "output_type": "stream",
     "text": [
      "Original array:\n",
      "[ 34  12   7  56  89  22 457]\n",
      "Sorted array:\n",
      "[  7  12  22  34  56  89 457]\n"
     ]
    }
   ],
   "source": [
    "import numpy as np\n",
    "\n",
    "array = np.array([34, 12, 7, 56, 89, 22, 457])\n",
    "sorted_array = np.sort(array)\n",
    "\n",
    "print(\"Original array:\")\n",
    "print(array)\n",
    "\n",
    "print(\"Sorted array:\")\n",
    "print(sorted_array)"
   ]
  },
  {
   "cell_type": "code",
   "execution_count": 2,
   "id": "a8bfd141-5d81-4233-a3c1-c78c7705423f",
   "metadata": {},
   "outputs": [
    {
     "name": "stdout",
     "output_type": "stream",
     "text": [
      "[[ 2  3 10]\n",
      " [ 1  5  7]\n",
      " [ 5  6  7]]\n",
      "[[ 1  5  2]\n",
      " [ 3  7  5]\n",
      " [ 6 10  7]]\n",
      "[ 1  2  3  5  5  6  7  7 10]\n",
      "[[ 2  3 10]\n",
      " [ 1  5  7]\n",
      " [ 5  6  7]]\n"
     ]
    }
   ],
   "source": [
    "import numpy as np\n",
    "\n",
    "a = np.array([[3, 10, 2], [1, 5, 7], [6, 7, 5]])\n",
    "\n",
    "print(np.sort(a))\n",
    "\n",
    "array4 = np.sort(a, axis=0)\n",
    "print(array4)\n",
    "\n",
    "a1 = np.sort(a, axis=None)\n",
    "print(a1)\n",
    "\n",
    "a2 = np.sort(a, axis=1)\n",
    "print(a2)"
   ]
  },
  {
   "cell_type": "code",
   "execution_count": 5,
   "id": "5abd3e3f-17a1-4cdd-b479-74d84ac19f70",
   "metadata": {},
   "outputs": [
    {
     "name": "stdout",
     "output_type": "stream",
     "text": [
      "0    1\n",
      "1    2\n",
      "2    3\n",
      "dtype: int64\n",
      "DataFrame:\n",
      "        Name  Age  Study\n",
      "0     Lowkya   19  BTECH\n",
      "1  Keerthana   18    CSE\n",
      "2      bavya   21    EEE\n"
     ]
    }
   ],
   "source": [
    "import pandas as pd\n",
    "\n",
    "l = [1, 2, 3]\n",
    "s = pd.Series(l)\n",
    "print(s)\n",
    "data = {\"Name\": [\"Lowkya\", \"Keerthana\", \"bavya\"],\n",
    "        \"Age\": [19, 18, 21],\n",
    "        \"Study\": [\"BTECH\", \"CSE\", \"EEE\"]}\n",
    "\n",
    "df = pd.DataFrame(data)\n",
    "print(\"DataFrame:\")\n",
    "print(df)"
   ]
  },
  {
   "cell_type": "code",
   "execution_count": 6,
   "id": "18510f2c-3d17-4e4e-8cc0-0ce873dd9ccb",
   "metadata": {},
   "outputs": [
    {
     "name": "stdout",
     "output_type": "stream",
     "text": [
      "Least cost path from A to E : ['A', 'C', 'F', 'E']\n",
      "Total cost: 11\n"
     ]
    }
   ],
   "source": [
    "import heapq\n",
    "\n",
    "def uniform_cost_search(graph, start, goal):\n",
    "    priority_queue = [(0, start, [])]\n",
    "    visited = set()\n",
    "\n",
    "    while priority_queue:\n",
    "        cost, node, path = heapq.heappop(priority_queue)\n",
    "        if node in visited:\n",
    "            continue\n",
    "\n",
    "        path = path + [node]\n",
    "        visited.add(node)\n",
    "\n",
    "        if node == goal:\n",
    "            return cost, path\n",
    "\n",
    "        for neighbour, edge_cost in graph.get(node, []):\n",
    "            if neighbour not in visited:\n",
    "                heapq.heappush(priority_queue, (cost + edge_cost, neighbour, path))\n",
    "\n",
    "graph = {\n",
    "    'A': [('B', 8), ('C', 3)],\n",
    "    'B': [('E', 10), ('D', 2)],\n",
    "    'C': [('F', 6), ('G', 7)],\n",
    "    'F': [('E', 2), ('G', 1)]\n",
    "}\n",
    "\n",
    "start_node = 'A'\n",
    "goal_node = 'E'\n",
    "\n",
    "cost, path = uniform_cost_search(graph, start_node, goal_node)\n",
    "print(\"Least cost path from\", start_node, \"to\", goal_node, \":\", path)\n",
    "print(\"Total cost:\", cost)"
   ]
  },
  {
   "cell_type": "code",
   "execution_count": 7,
   "id": "5f7cacc9-d0bc-4a45-b786-2464c92af3a7",
   "metadata": {},
   "outputs": [
    {
     "name": "stdout",
     "output_type": "stream",
     "text": [
      "Least cost path from A to G is ['A', 'B', 'E', 'G']\n",
      "Total cost: 20\n"
     ]
    }
   ],
   "source": [
    "import heapq\n",
    "\n",
    "def astar_search(start, goal, graph, heuristic):\n",
    "    open_list = [(0, start, [])]\n",
    "    \n",
    "    while open_list:\n",
    "        cost, current_node, path = heapq.heappop(open_list)\n",
    "        path = path + [current_node]\n",
    "        \n",
    "        if current_node == goal:\n",
    "            return path, cost\n",
    "        \n",
    "        for neighbor, edge_cost in graph.get(current_node, []):\n",
    "            heapq.heappush(open_list, (cost + edge_cost + heuristic[neighbor], neighbor, path))\n",
    "    \n",
    "    return None\n",
    "\n",
    "graph = {\n",
    "    'A': [('B', 6), ('C', 3)],\n",
    "    'B': [('D', 2), ('E', 4)],\n",
    "    'C': [('F', 10)],\n",
    "    'D': [('G', 4)],\n",
    "    'E': [('G', 1)],\n",
    "    'F': [('G', 2)]\n",
    "}\n",
    "\n",
    "heuristic = {\n",
    "    'A': 7, 'B': 6, 'C': 5, 'D': 4, 'E': 3, 'F': 6, 'G': 0\n",
    "}\n",
    "\n",
    "start_node = 'A'\n",
    "goal_node = 'G'\n",
    "\n",
    "path, total_cost = astar_search(start_node, goal_node, graph, heuristic)\n",
    "\n",
    "print(\"Least cost path from\", start_node, \"to\", goal_node, \"is\", path)\n",
    "print(\"Total cost:\", total_cost)"
   ]
  },
  {
   "cell_type": "code",
   "execution_count": 8,
   "id": "c7596f6d-c846-4df0-9ea9-c250f2e5bcf5",
   "metadata": {},
   "outputs": [
    {
     "name": "stdout",
     "output_type": "stream",
     "text": [
      "Optimal x: 1.9988\n",
      "Optimal value: 4.0000\n"
     ]
    }
   ],
   "source": [
    "import random\n",
    "\n",
    "def objective_function(x):\n",
    "    return -x**2 + 4*x\n",
    "\n",
    "def hill_climb(start_x, step_size=0.1, max_iterations=100):\n",
    "    current_x = start_x\n",
    "    current_value = objective_function(current_x)\n",
    "    \n",
    "    for _ in range(max_iterations):\n",
    "        neighbours = [current_x + step_size, current_x - step_size]\n",
    "        best_neighbour = max(neighbours, key=objective_function)\n",
    "        best_neighbour_value = objective_function(best_neighbour)\n",
    "        \n",
    "        if best_neighbour_value > current_value:\n",
    "            current_x, current_value = best_neighbour, best_neighbour_value\n",
    "        else:\n",
    "            break\n",
    "    \n",
    "    return current_x, current_value\n",
    "\n",
    "start_point = random.uniform(-10, 10)\n",
    "best_x, best_value = hill_climb(start_point)\n",
    "\n",
    "print(f\"Optimal x: {best_x:.4f}\")\n",
    "print(f\"Optimal value: {best_value:.4f}\")"
   ]
  },
  {
   "cell_type": "code",
   "execution_count": 13,
   "id": "5aa6164d-7ec8-4b89-bf79-4498f81758fe",
   "metadata": {},
   "outputs": [
    {
     "name": "stdout",
     "output_type": "stream",
     "text": [
      "The optimal value is: 5\n"
     ]
    }
   ],
   "source": [
    "MAX, MIN = 1000, -1000\n",
    "\n",
    "def minimax(depth, nodeIndex, maximizingPlayer, values, alpha, beta):\n",
    "    if depth == 3:\n",
    "        return values[nodeIndex]\n",
    "    \n",
    "    if maximizingPlayer:\n",
    "        best = MIN\n",
    "        for i in range(2):\n",
    "            val = minimax(depth + 1, nodeIndex * 2 + i, False, values, alpha, beta)\n",
    "            best = max(best, val)\n",
    "            alpha = max(alpha, best)\n",
    "            if beta <= alpha:\n",
    "                break\n",
    "        return best\n",
    "    else:\n",
    "        best = MAX\n",
    "        for i in range(2):\n",
    "            val = minimax(depth + 1, nodeIndex * 2 + i, True, values, alpha, beta)\n",
    "            best = min(best, val)\n",
    "            beta = min(beta, best)\n",
    "            if beta <= alpha:\n",
    "                break\n",
    "        return best\n",
    "\n",
    "if __name__ == \"__main__\":\n",
    "    values = [3, 5, 6, 9, 1, 2, 0, -1]\n",
    "    print(\"The optimal value is:\", minimax(0, 0, True, values, MIN, MAX))\n"
   ]
  },
  {
   "cell_type": "code",
   "execution_count": 15,
   "id": "4f0ec416-3534-48c1-81ac-4f454ddead74",
   "metadata": {},
   "outputs": [
    {
     "name": "stdout",
     "output_type": "stream",
     "text": [
      "♛ ⬜ ⬜ ⬜ ⬜ ⬜ ⬜ ⬜\n",
      "⬜ ⬜ ⬜ ⬜ ♛ ⬜ ⬜ ⬜\n",
      "⬜ ⬜ ⬜ ⬜ ⬜ ⬜ ⬜ ♛\n",
      "⬜ ⬜ ⬜ ⬜ ⬜ ♛ ⬜ ⬜\n",
      "⬜ ⬜ ♛ ⬜ ⬜ ⬜ ⬜ ⬜\n",
      "⬜ ⬜ ⬜ ⬜ ⬜ ⬜ ♛ ⬜\n",
      "⬜ ♛ ⬜ ⬜ ⬜ ⬜ ⬜ ⬜\n",
      "⬜ ⬜ ⬜ ♛ ⬜ ⬜ ⬜ ⬜\n",
      "\n",
      "\n",
      "✅ Solution found!\n"
     ]
    }
   ],
   "source": [
    "def print_board(board):\n",
    "    for row in board:\n",
    "        print(\" \".join(row))\n",
    "    print(\"\\n\")\n",
    "\n",
    "def is_safe(board, row, col, N):\n",
    "    for i in range(row):\n",
    "        if board[i][col] == '♛':\n",
    "            return False\n",
    "    for i, j in zip(range(row, -1, -1), range(col, -1, -1)):\n",
    "        if j < 0:\n",
    "            break\n",
    "        if board[i][j] == '♛':\n",
    "            return False\n",
    "    for i, j in zip(range(row, -1, -1), range(col, N)):\n",
    "        if j >= N:\n",
    "            break\n",
    "        if board[i][j] == '♛':\n",
    "            return False\n",
    "    return True\n",
    "\n",
    "def solve_n_queens_util(board, row, N):\n",
    "    if row >= N:\n",
    "        print_board(board)\n",
    "        return True\n",
    "    for col in range(N):\n",
    "        if is_safe(board, row, col, N):\n",
    "            board[row][col] = '♛'\n",
    "            if solve_n_queens_util(board, row + 1, N):\n",
    "                return True\n",
    "            board[row][col] = '⬜'\n",
    "    return False\n",
    "\n",
    "def solve_n_queens(N):\n",
    "    board = [['⬜' for _ in range(N)] for _ in range(N)]\n",
    "    if not solve_n_queens_util(board, 0, N):\n",
    "        print(\"❌ No solution found!\")\n",
    "    else:\n",
    "        print(\"✅ Solution found!\")\n",
    "\n",
    "N = 8  \n",
    "solve_n_queens(N)\n"
   ]
  },
  {
   "cell_type": "code",
   "execution_count": null,
   "id": "f987f2f9-f578-443f-a56a-7ba0f24e6000",
   "metadata": {},
   "outputs": [],
   "source": []
  }
 ],
 "metadata": {
  "kernelspec": {
   "display_name": "Python 3 (ipykernel)",
   "language": "python",
   "name": "python3"
  },
  "language_info": {
   "codemirror_mode": {
    "name": "ipython",
    "version": 3
   },
   "file_extension": ".py",
   "mimetype": "text/x-python",
   "name": "python",
   "nbconvert_exporter": "python",
   "pygments_lexer": "ipython3",
   "version": "3.13.2"
  }
 },
 "nbformat": 4,
 "nbformat_minor": 5
}
